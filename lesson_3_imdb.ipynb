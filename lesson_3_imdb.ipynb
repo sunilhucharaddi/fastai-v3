{
  "nbformat": 4,
  "nbformat_minor": 0,
  "metadata": {
    "colab": {
      "name": "lesson-3-imdb.ipynb",
      "provenance": [],
      "authorship_tag": "ABX9TyMR5p/5CpBXKEC3Rj5kfCmy",
      "include_colab_link": true
    },
    "kernelspec": {
      "name": "python3",
      "display_name": "Python 3"
    },
    "accelerator": "GPU"
  },
  "cells": [
    {
      "cell_type": "markdown",
      "metadata": {
        "id": "view-in-github",
        "colab_type": "text"
      },
      "source": [
        "<a href=\"https://colab.research.google.com/github/sunilhucharaddi/fastai-v3/blob/master/lesson_3_imdb.ipynb\" target=\"_parent\"><img src=\"https://colab.research.google.com/assets/colab-badge.svg\" alt=\"Open In Colab\"/></a>"
      ]
    },
    {
      "cell_type": "code",
      "metadata": {
        "id": "pCK04FPkfKVf",
        "colab_type": "code",
        "colab": {
          "base_uri": "https://localhost:8080/",
          "height": 51
        },
        "outputId": "1943d4ff-eec8-4c2c-9ddc-4fcaaac8ffcd"
      },
      "source": [
        "!curl -s https://course.fast.ai/setup/colab | bash"
      ],
      "execution_count": 3,
      "outputs": [
        {
          "output_type": "stream",
          "text": [
            "Updating fastai...\n",
            "Done.\n"
          ],
          "name": "stdout"
        }
      ]
    },
    {
      "cell_type": "code",
      "metadata": {
        "id": "Oo7TNdsafc4P",
        "colab_type": "code",
        "colab": {
          "base_uri": "https://localhost:8080/",
          "height": 122
        },
        "outputId": "bd26fa91-c225-4821-94e8-3daa9cd6c354"
      },
      "source": [
        "from google.colab import drive\n",
        "drive.mount('/content/gdrive', force_remount=True)\n",
        "root_dir = \"/content/gdrive/My Drive/\"\n",
        "base_dir = root_dir + 'fastai-v3/'"
      ],
      "execution_count": 4,
      "outputs": [
        {
          "output_type": "stream",
          "text": [
            "Go to this URL in a browser: https://accounts.google.com/o/oauth2/auth?client_id=947318989803-6bn6qk8qdgf4n4g3pfee6491hc0brc4i.apps.googleusercontent.com&redirect_uri=urn%3aietf%3awg%3aoauth%3a2.0%3aoob&response_type=code&scope=email%20https%3a%2f%2fwww.googleapis.com%2fauth%2fdocs.test%20https%3a%2f%2fwww.googleapis.com%2fauth%2fdrive%20https%3a%2f%2fwww.googleapis.com%2fauth%2fdrive.photos.readonly%20https%3a%2f%2fwww.googleapis.com%2fauth%2fpeopleapi.readonly\n",
            "\n",
            "Enter your authorization code:\n",
            "··········\n",
            "Mounted at /content/gdrive\n"
          ],
          "name": "stdout"
        }
      ]
    },
    {
      "cell_type": "markdown",
      "metadata": {
        "id": "AZqSlr0hfpow",
        "colab_type": "text"
      },
      "source": [
        "**IMDB**"
      ]
    },
    {
      "cell_type": "code",
      "metadata": {
        "id": "RQYCu7nVfigY",
        "colab_type": "code",
        "colab": {}
      },
      "source": [
        "%reload_ext autoreload\n",
        "%autoreload 2\n",
        "%matplotlib inline"
      ],
      "execution_count": 0,
      "outputs": []
    },
    {
      "cell_type": "code",
      "metadata": {
        "id": "29exmyQOfsNm",
        "colab_type": "code",
        "colab": {}
      },
      "source": [
        "from fastai.text import *"
      ],
      "execution_count": 0,
      "outputs": []
    },
    {
      "cell_type": "code",
      "metadata": {
        "id": "yu84ei64fyXN",
        "colab_type": "code",
        "colab": {
          "base_uri": "https://localhost:8080/",
          "height": 51
        },
        "outputId": "cd09e252-8a98-4e1c-f23f-a951fbce0815"
      },
      "source": [
        " path = untar_data(URLs.IMDB_SAMPLE)\n",
        " path.ls()"
      ],
      "execution_count": 7,
      "outputs": [
        {
          "output_type": "stream",
          "text": [
            "Downloading http://files.fast.ai/data/examples/imdb_sample\n"
          ],
          "name": "stdout"
        },
        {
          "output_type": "display_data",
          "data": {
            "text/html": [
              ""
            ],
            "text/plain": [
              "<IPython.core.display.HTML object>"
            ]
          },
          "metadata": {
            "tags": []
          }
        },
        {
          "output_type": "execute_result",
          "data": {
            "text/plain": [
              "[PosixPath('/root/.fastai/data/imdb_sample/texts.csv')]"
            ]
          },
          "metadata": {
            "tags": []
          },
          "execution_count": 7
        }
      ]
    },
    {
      "cell_type": "code",
      "metadata": {
        "id": "DJKkBneAgEXv",
        "colab_type": "code",
        "colab": {
          "base_uri": "https://localhost:8080/",
          "height": 204
        },
        "outputId": "daf26a8e-ba54-47a5-d73f-e9a65f80e167"
      },
      "source": [
        "df = pd.read_csv(path/'texts.csv')\n",
        "df.head()"
      ],
      "execution_count": 8,
      "outputs": [
        {
          "output_type": "execute_result",
          "data": {
            "text/html": [
              "<div>\n",
              "<style scoped>\n",
              "    .dataframe tbody tr th:only-of-type {\n",
              "        vertical-align: middle;\n",
              "    }\n",
              "\n",
              "    .dataframe tbody tr th {\n",
              "        vertical-align: top;\n",
              "    }\n",
              "\n",
              "    .dataframe thead th {\n",
              "        text-align: right;\n",
              "    }\n",
              "</style>\n",
              "<table border=\"1\" class=\"dataframe\">\n",
              "  <thead>\n",
              "    <tr style=\"text-align: right;\">\n",
              "      <th></th>\n",
              "      <th>label</th>\n",
              "      <th>text</th>\n",
              "      <th>is_valid</th>\n",
              "    </tr>\n",
              "  </thead>\n",
              "  <tbody>\n",
              "    <tr>\n",
              "      <th>0</th>\n",
              "      <td>negative</td>\n",
              "      <td>Un-bleeping-believable! Meg Ryan doesn't even ...</td>\n",
              "      <td>False</td>\n",
              "    </tr>\n",
              "    <tr>\n",
              "      <th>1</th>\n",
              "      <td>positive</td>\n",
              "      <td>This is a extremely well-made film. The acting...</td>\n",
              "      <td>False</td>\n",
              "    </tr>\n",
              "    <tr>\n",
              "      <th>2</th>\n",
              "      <td>negative</td>\n",
              "      <td>Every once in a long while a movie will come a...</td>\n",
              "      <td>False</td>\n",
              "    </tr>\n",
              "    <tr>\n",
              "      <th>3</th>\n",
              "      <td>positive</td>\n",
              "      <td>Name just says it all. I watched this movie wi...</td>\n",
              "      <td>False</td>\n",
              "    </tr>\n",
              "    <tr>\n",
              "      <th>4</th>\n",
              "      <td>negative</td>\n",
              "      <td>This movie succeeds at being one of the most u...</td>\n",
              "      <td>False</td>\n",
              "    </tr>\n",
              "  </tbody>\n",
              "</table>\n",
              "</div>"
            ],
            "text/plain": [
              "      label                                               text  is_valid\n",
              "0  negative  Un-bleeping-believable! Meg Ryan doesn't even ...     False\n",
              "1  positive  This is a extremely well-made film. The acting...     False\n",
              "2  negative  Every once in a long while a movie will come a...     False\n",
              "3  positive  Name just says it all. I watched this movie wi...     False\n",
              "4  negative  This movie succeeds at being one of the most u...     False"
            ]
          },
          "metadata": {
            "tags": []
          },
          "execution_count": 8
        }
      ]
    },
    {
      "cell_type": "code",
      "metadata": {
        "id": "HPP3iTHZgTo0",
        "colab_type": "code",
        "colab": {
          "base_uri": "https://localhost:8080/",
          "height": 54
        },
        "outputId": "b1763a49-bb71-49f4-e708-c706cd84bfea"
      },
      "source": [
        "df['text'][1]"
      ],
      "execution_count": 9,
      "outputs": [
        {
          "output_type": "execute_result",
          "data": {
            "text/plain": [
              "'This is a extremely well-made film. The acting, script and camera-work are all first-rate. The music is good, too, though it is mostly early in the film, when things are still relatively cheery. There are no really superstars in the cast, though several faces will be familiar. The entire cast does an excellent job with the script.<br /><br />But it is hard to watch, because there is no good end to a situation like the one presented. It is now fashionable to blame the British for setting Hindus and Muslims against each other, and then cruelly separating them into two countries. There is some merit in this view, but it\\'s also true that no one forced Hindus and Muslims in the region to mistreat each other as they did around the time of partition. It seems more likely that the British simply saw the tensions between the religions and were clever enough to exploit them to their own ends.<br /><br />The result is that there is much cruelty and inhumanity in the situation and this is very unpleasant to remember and to see on the screen. But it is never painted as a black-and-white case. There is baseness and nobility on both sides, and also the hope for change in the younger generation.<br /><br />There is redemption of a sort, in the end, when Puro has to make a hard choice between a man who has ruined her life, but also truly loved her, and her family which has disowned her, then later come looking for her. But by that point, she has no option that is without great pain for her.<br /><br />This film carries the message that both Muslims and Hindus have their grave faults, and also that both can be dignified and caring people. The reality of partition makes that realisation all the more wrenching, since there can never be real reconciliation across the India/Pakistan border. In that sense, it is similar to \"Mr & Mrs Iyer\".<br /><br />In the end, we were glad to have seen the film, even though the resolution was heartbreaking. If the UK and US could deal with their own histories of racism with this kind of frankness, they would certainly be better off.'"
            ]
          },
          "metadata": {
            "tags": []
          },
          "execution_count": 9
        }
      ]
    },
    {
      "cell_type": "code",
      "metadata": {
        "id": "nIGxnqPDghmF",
        "colab_type": "code",
        "colab": {
          "base_uri": "https://localhost:8080/",
          "height": 17
        },
        "outputId": "d7d90630-711a-465d-cf55-305c21324437"
      },
      "source": [
        "data_lm = TextDataBunch.from_csv(path, 'texts.csv')"
      ],
      "execution_count": 10,
      "outputs": [
        {
          "output_type": "display_data",
          "data": {
            "text/html": [
              ""
            ],
            "text/plain": [
              "<IPython.core.display.HTML object>"
            ]
          },
          "metadata": {
            "tags": []
          }
        },
        {
          "output_type": "display_data",
          "data": {
            "text/html": [
              ""
            ],
            "text/plain": [
              "<IPython.core.display.HTML object>"
            ]
          },
          "metadata": {
            "tags": []
          }
        }
      ]
    },
    {
      "cell_type": "code",
      "metadata": {
        "id": "fgQiz5OIhrsa",
        "colab_type": "code",
        "colab": {}
      },
      "source": [
        "data_lm.save()\n"
      ],
      "execution_count": 0,
      "outputs": []
    },
    {
      "cell_type": "code",
      "metadata": {
        "id": "nS-kLN_th8Fh",
        "colab_type": "code",
        "colab": {}
      },
      "source": [
        "data = load_data(path)"
      ],
      "execution_count": 0,
      "outputs": []
    },
    {
      "cell_type": "markdown",
      "metadata": {
        "id": "hpUS9SdgiO25",
        "colab_type": "text"
      },
      "source": [
        "**TOkennization**"
      ]
    },
    {
      "cell_type": "code",
      "metadata": {
        "id": "dMwbcw-4iEpc",
        "colab_type": "code",
        "colab": {
          "base_uri": "https://localhost:8080/",
          "height": 476
        },
        "outputId": "82610ea2-baa5-44df-8559-26ec3efcdc89"
      },
      "source": [
        "data = TextClasDataBunch.from_csv(path, 'texts.csv')\n",
        "data.show_batch()"
      ],
      "execution_count": 13,
      "outputs": [
        {
          "output_type": "display_data",
          "data": {
            "text/html": [
              ""
            ],
            "text/plain": [
              "<IPython.core.display.HTML object>"
            ]
          },
          "metadata": {
            "tags": []
          }
        },
        {
          "output_type": "display_data",
          "data": {
            "text/html": [
              ""
            ],
            "text/plain": [
              "<IPython.core.display.HTML object>"
            ]
          },
          "metadata": {
            "tags": []
          }
        },
        {
          "output_type": "display_data",
          "data": {
            "text/html": [
              "<table border=\"1\" class=\"dataframe\">\n",
              "  <thead>\n",
              "    <tr style=\"text-align: right;\">\n",
              "      <th>text</th>\n",
              "      <th>target</th>\n",
              "    </tr>\n",
              "  </thead>\n",
              "  <tbody>\n",
              "    <tr>\n",
              "      <td>xxbos xxmaj raising xxmaj victor xxmaj vargas : a xxmaj review \\n \\n  xxmaj you know , xxmaj raising xxmaj victor xxmaj vargas is like sticking your hands into a big , steaming bowl of xxunk . xxmaj it 's warm and gooey , but you 're not sure if it feels right . xxmaj try as i might , no matter how warm and gooey xxmaj raising xxmaj</td>\n",
              "      <td>negative</td>\n",
              "    </tr>\n",
              "    <tr>\n",
              "      <td>xxbos xxup the xxup shop xxup around xxup the xxup corner is one of the sweetest and most feel - good romantic comedies ever made . xxmaj there 's just no getting around that , and it 's hard to actually put one 's feeling for this film into words . xxmaj it 's not one of those films that tries too hard , nor does it come up with</td>\n",
              "      <td>positive</td>\n",
              "    </tr>\n",
              "    <tr>\n",
              "      <td>xxbos xxmaj now that xxmaj che(2008 ) has finished its relatively short xxmaj australian cinema run ( extremely limited xxunk screen in xxmaj xxunk , after xxunk ) , i can xxunk join both xxunk of \" xxmaj at xxmaj the xxmaj movies \" in taking xxmaj steven xxmaj soderbergh to task . \\n \\n  xxmaj it 's usually satisfying to watch a film director change his style /</td>\n",
              "      <td>negative</td>\n",
              "    </tr>\n",
              "    <tr>\n",
              "      <td>xxbos xxmaj this film sat on my xxmaj tivo for weeks before i watched it . i dreaded a self - indulgent xxunk flick about relationships gone bad . i was wrong ; this was an xxunk xxunk into the screwed - up xxunk of xxmaj new xxmaj yorkers . \\n \\n  xxmaj the format is the same as xxmaj max xxmaj xxunk ' \" xxmaj la xxmaj ronde</td>\n",
              "      <td>positive</td>\n",
              "    </tr>\n",
              "    <tr>\n",
              "      <td>xxbos xxmaj many neglect that this is n't just a classic due to the fact that it 's the first xxup 3d game , or even the first xxunk - up . xxmaj it 's also one of the first xxunk games , one of the xxunk definitely the first ) truly claustrophobic games , and just a pretty well - rounded gaming experience in general . xxmaj with graphics</td>\n",
              "      <td>positive</td>\n",
              "    </tr>\n",
              "  </tbody>\n",
              "</table>"
            ],
            "text/plain": [
              "<IPython.core.display.HTML object>"
            ]
          },
          "metadata": {
            "tags": []
          }
        }
      ]
    },
    {
      "cell_type": "markdown",
      "metadata": {
        "id": "czjjew3Si3CM",
        "colab_type": "text"
      },
      "source": [
        "**Numericalization**"
      ]
    },
    {
      "cell_type": "code",
      "metadata": {
        "id": "RUXVTO7eiNft",
        "colab_type": "code",
        "colab": {
          "base_uri": "https://localhost:8080/",
          "height": 187
        },
        "outputId": "1cfca919-527a-41bf-d705-62d8e90607d2"
      },
      "source": [
        "data.vocab.itos[:10]"
      ],
      "execution_count": 14,
      "outputs": [
        {
          "output_type": "execute_result",
          "data": {
            "text/plain": [
              "['xxunk',\n",
              " 'xxpad',\n",
              " 'xxbos',\n",
              " 'xxeos',\n",
              " 'xxfld',\n",
              " 'xxmaj',\n",
              " 'xxup',\n",
              " 'xxrep',\n",
              " 'xxwrep',\n",
              " 'the']"
            ]
          },
          "metadata": {
            "tags": []
          },
          "execution_count": 14
        }
      ]
    },
    {
      "cell_type": "code",
      "metadata": {
        "id": "rH7NTIoPjOXF",
        "colab_type": "code",
        "colab": {
          "base_uri": "https://localhost:8080/",
          "height": 54
        },
        "outputId": "d6d8b9f4-e887-45ae-ab86-f8b8d955b7f2"
      },
      "source": [
        "data.train_ds[0][0]"
      ],
      "execution_count": 15,
      "outputs": [
        {
          "output_type": "execute_result",
          "data": {
            "text/plain": [
              "Text xxbos a beautiful xxunk in xxmaj london is swept off her feet by a millionaire tea plantation owner and soon finds herself married and living with him at his xxunk in xxmaj british xxmaj xxunk . xxmaj although based upon the book by xxmaj robert xxmaj xxunk , this initial set - up is highly reminiscent of xxmaj xxunk 's \" xxmaj rebecca \" , with leading lady xxmaj elizabeth xxmaj taylor clashing with the imposing chief of staff at the mansion and ( almost immediately ) her own husband , who is still under the thumb of his deceased - but - xxunk father . xxmaj taylor , a last - minute substitute for an xxunk xxmaj xxunk xxmaj leigh , looks xxunk - smooth in her high fashion wardrobe , and her performance is quite strong ; however , once husband xxmaj peter xxmaj finch starts drinking heavily and xxunk orders at her , one might think her dedication to him rather masochistic ( this feeling xxunk the ending as well ) . xxmaj still , the film offers a xxunk lot for soap buffs : romantic drama , a bit of travelogue , interpretive dance , an elephant xxunk , and a perfectly - timed xxunk of xxunk ! * * * from xxrep 4 *"
            ]
          },
          "metadata": {
            "tags": []
          },
          "execution_count": 15
        }
      ]
    },
    {
      "cell_type": "code",
      "metadata": {
        "id": "Xh3QN1y_jWuj",
        "colab_type": "code",
        "colab": {
          "base_uri": "https://localhost:8080/",
          "height": 34
        },
        "outputId": "25312d8f-0e4a-449c-a295-e2bf7d65c3a4"
      },
      "source": [
        "data.train_ds[0][0].data[:10]"
      ],
      "execution_count": 16,
      "outputs": [
        {
          "output_type": "execute_result",
          "data": {
            "text/plain": [
              "array([   2,   13,  335,    0,   18,    5, 2466,   16, 3835,  145])"
            ]
          },
          "metadata": {
            "tags": []
          },
          "execution_count": 16
        }
      ]
    },
    {
      "cell_type": "code",
      "metadata": {
        "id": "nfLcz88CjgfE",
        "colab_type": "code",
        "colab": {}
      },
      "source": [
        ""
      ],
      "execution_count": 0,
      "outputs": []
    },
    {
      "cell_type": "markdown",
      "metadata": {
        "id": "-BftUgFyjmKr",
        "colab_type": "text"
      },
      "source": [
        "**With data block API**"
      ]
    },
    {
      "cell_type": "code",
      "metadata": {
        "id": "xKejuTI9jp-_",
        "colab_type": "code",
        "colab": {
          "base_uri": "https://localhost:8080/",
          "height": 17
        },
        "outputId": "0773591a-e5a1-4559-ee20-c54d90afcb74"
      },
      "source": [
        "data = (TextList.from_csv(path, 'texts.csv', cols='text')\n",
        "          .split_from_df(col=2)\n",
        "          .label_from_df(cols=0)\n",
        "          .databunch())"
      ],
      "execution_count": 17,
      "outputs": [
        {
          "output_type": "display_data",
          "data": {
            "text/html": [
              ""
            ],
            "text/plain": [
              "<IPython.core.display.HTML object>"
            ]
          },
          "metadata": {
            "tags": []
          }
        },
        {
          "output_type": "display_data",
          "data": {
            "text/html": [
              ""
            ],
            "text/plain": [
              "<IPython.core.display.HTML object>"
            ]
          },
          "metadata": {
            "tags": []
          }
        }
      ]
    },
    {
      "cell_type": "markdown",
      "metadata": {
        "id": "suVB5HzUkV4N",
        "colab_type": "text"
      },
      "source": [
        "**Language model**"
      ]
    },
    {
      "cell_type": "code",
      "metadata": {
        "id": "5LAvGfu2jsE6",
        "colab_type": "code",
        "colab": {}
      },
      "source": [
        "bs=48"
      ],
      "execution_count": 0,
      "outputs": []
    },
    {
      "cell_type": "code",
      "metadata": {
        "id": "0ZdVFhUwka_I",
        "colab_type": "code",
        "colab": {
          "base_uri": "https://localhost:8080/",
          "height": 153
        },
        "outputId": "bb1004a9-a4df-4da2-fa35-46b5956582af"
      },
      "source": [
        "path = untar_data(URLs.IMDB)\n",
        "path.ls()"
      ],
      "execution_count": 19,
      "outputs": [
        {
          "output_type": "stream",
          "text": [
            "Downloading https://s3.amazonaws.com/fast-ai-nlp/imdb\n"
          ],
          "name": "stdout"
        },
        {
          "output_type": "display_data",
          "data": {
            "text/html": [
              ""
            ],
            "text/plain": [
              "<IPython.core.display.HTML object>"
            ]
          },
          "metadata": {
            "tags": []
          }
        },
        {
          "output_type": "execute_result",
          "data": {
            "text/plain": [
              "[PosixPath('/root/.fastai/data/imdb/README'),\n",
              " PosixPath('/root/.fastai/data/imdb/imdb.vocab'),\n",
              " PosixPath('/root/.fastai/data/imdb/tmp_lm'),\n",
              " PosixPath('/root/.fastai/data/imdb/unsup'),\n",
              " PosixPath('/root/.fastai/data/imdb/train'),\n",
              " PosixPath('/root/.fastai/data/imdb/tmp_clas'),\n",
              " PosixPath('/root/.fastai/data/imdb/test')]"
            ]
          },
          "metadata": {
            "tags": []
          },
          "execution_count": 19
        }
      ]
    },
    {
      "cell_type": "code",
      "metadata": {
        "id": "XkZqXb8Kki3J",
        "colab_type": "code",
        "colab": {
          "base_uri": "https://localhost:8080/",
          "height": 85
        },
        "outputId": "e3e85dd2-bcda-48b2-b426-895595440da0"
      },
      "source": [
        "(path/'train').ls()"
      ],
      "execution_count": 20,
      "outputs": [
        {
          "output_type": "execute_result",
          "data": {
            "text/plain": [
              "[PosixPath('/root/.fastai/data/imdb/train/neg'),\n",
              " PosixPath('/root/.fastai/data/imdb/train/labeledBow.feat'),\n",
              " PosixPath('/root/.fastai/data/imdb/train/pos'),\n",
              " PosixPath('/root/.fastai/data/imdb/train/unsupBow.feat')]"
            ]
          },
          "metadata": {
            "tags": []
          },
          "execution_count": 20
        }
      ]
    },
    {
      "cell_type": "code",
      "metadata": {
        "id": "ryoOm5FxknvI",
        "colab_type": "code",
        "colab": {
          "base_uri": "https://localhost:8080/",
          "height": 17
        },
        "outputId": "cabe1cca-2833-4044-b16e-fdedef579301"
      },
      "source": [
        "data_lm = (TextList.from_folder(path)\n",
        "            #Inputs: all the text files in path\n",
        "           .filter_by_folder(include=['train','test', 'unsup'])\n",
        "           #we may have other temp folders that contain text files so we keep whats only in train and test)\n",
        "           .split_by_rand_pct(0.1)\n",
        "           #we randomly split and keep 10%(10,000reviews ) for validation\n",
        "           .label_for_lm()\n",
        "           #we want to so a language model so we label accordingly\n",
        "           .databunch(bs=bs))\n",
        "data_lm.save('data_lm.pkl')"
      ],
      "execution_count": 21,
      "outputs": [
        {
          "output_type": "display_data",
          "data": {
            "text/html": [
              ""
            ],
            "text/plain": [
              "<IPython.core.display.HTML object>"
            ]
          },
          "metadata": {
            "tags": []
          }
        },
        {
          "output_type": "display_data",
          "data": {
            "text/html": [
              ""
            ],
            "text/plain": [
              "<IPython.core.display.HTML object>"
            ]
          },
          "metadata": {
            "tags": []
          }
        }
      ]
    },
    {
      "cell_type": "code",
      "metadata": {
        "id": "Gek-z1qLmJKD",
        "colab_type": "code",
        "colab": {}
      },
      "source": [
        "data_lm = load_data(path, 'data_lm.pkl', bs=bs)"
      ],
      "execution_count": 0,
      "outputs": []
    },
    {
      "cell_type": "code",
      "metadata": {
        "id": "oEotcgsFmwGe",
        "colab_type": "code",
        "colab": {
          "base_uri": "https://localhost:8080/",
          "height": 459
        },
        "outputId": "38be2d41-2f34-42fb-eda6-6e65eebc5806"
      },
      "source": [
        "data_lm.show_batch()"
      ],
      "execution_count": 23,
      "outputs": [
        {
          "output_type": "display_data",
          "data": {
            "text/html": [
              "<table border=\"1\" class=\"dataframe\">\n",
              "  <thead>\n",
              "    <tr style=\"text-align: right;\">\n",
              "      <th>idx</th>\n",
              "      <th>text</th>\n",
              "    </tr>\n",
              "  </thead>\n",
              "  <tbody>\n",
              "    <tr>\n",
              "      <td>0</td>\n",
              "      <td>the night from a xxmaj mariah xxmaj carey nightmare ! ;) \\n \\n  xxmaj so - i watched it , but i watched most of it in fast forward . xxmaj you get the picture that most of the cast are mean people who are going to ' get it in bad ways ' as soon as they are introduced . \\n \\n  xxmaj this is a real</td>\n",
              "    </tr>\n",
              "    <tr>\n",
              "      <td>1</td>\n",
              "      <td>- shots outside of courtrooms . \\n \\n  xxmaj the assassination is a big success apart from the fact , that the escape plan blew . xxmaj so xxmaj dial 's partner and local liaison gets killed in action trying to escape the police , whilst xxmaj dial becomes hot property with the xxmaj london coppers trying to get to him and xxup cia trying to dispose of him</td>\n",
              "    </tr>\n",
              "    <tr>\n",
              "      <td>2</td>\n",
              "      <td>now enjoy xxmaj second xxmaj string , a delicious xxup tv movie depicting a tale of a rag - tag gang of second stringers ( thus the title ) who are thrust into the position of starters due to an order of bad oysters . \\n \\n  xxmaj because of the motivational direction of both the director xxmaj robert xxmaj lieberman and the xxmaj buffalo xxmaj bills ' last</td>\n",
              "    </tr>\n",
              "    <tr>\n",
              "      <td>3</td>\n",
              "      <td>the xxmaj christian xxmaj bale and xxmaj kate xxmaj beckinsale characters are so annoying and unbelievably fake that the whole drama of the story , which weighs on their attitude towards the people they have to live with and their new dwelling , falls apart from the get - go . xxmaj those characters are n't real people but just types . \\n \\n  2 - xxmaj kate xxmaj</td>\n",
              "    </tr>\n",
              "    <tr>\n",
              "      <td>4</td>\n",
              "      <td>still \" normal \" and \" appropriate \" male who searches the ideal woman . xxmaj his \" city of women \" is idealistic and exists in his inner self , in his mind the climax of which is the ideal woman . xxmaj the latter one is a true \" conqueror \" , a male with excesses , with a number of women he has conquered by flesh .</td>\n",
              "    </tr>\n",
              "  </tbody>\n",
              "</table>"
            ],
            "text/plain": [
              "<IPython.core.display.HTML object>"
            ]
          },
          "metadata": {
            "tags": []
          }
        }
      ]
    },
    {
      "cell_type": "code",
      "metadata": {
        "id": "zois7XfTmzgW",
        "colab_type": "code",
        "colab": {}
      },
      "source": [
        "learn = language_model_learner(data_lm,AWD_LSTM,drop_mult=0.3)"
      ],
      "execution_count": 0,
      "outputs": []
    },
    {
      "cell_type": "code",
      "metadata": {
        "id": "Tw0IP0RnnI0B",
        "colab_type": "code",
        "colab": {
          "base_uri": "https://localhost:8080/",
          "height": 112
        },
        "outputId": "22cc176b-a872-4495-cad8-e87ad109cb28"
      },
      "source": [
        "learn.lr_find()"
      ],
      "execution_count": 32,
      "outputs": [
        {
          "output_type": "display_data",
          "data": {
            "text/html": [
              "\n",
              "    <div>\n",
              "        <style>\n",
              "            /* Turns off some styling */\n",
              "            progress {\n",
              "                /* gets rid of default border in Firefox and Opera. */\n",
              "                border: none;\n",
              "                /* Needs to be in here for Safari polyfill so background images work as expected. */\n",
              "                background-size: auto;\n",
              "            }\n",
              "            .progress-bar-interrupted, .progress-bar-interrupted::-webkit-progress-bar {\n",
              "                background: #F44336;\n",
              "            }\n",
              "        </style>\n",
              "      <progress value='0' class='' max='1', style='width:300px; height:20px; vertical-align: middle;'></progress>\n",
              "      0.00% [0/1 00:00<00:00]\n",
              "    </div>\n",
              "    \n",
              "<table border=\"1\" class=\"dataframe\">\n",
              "  <thead>\n",
              "    <tr style=\"text-align: left;\">\n",
              "      <th>epoch</th>\n",
              "      <th>train_loss</th>\n",
              "      <th>valid_loss</th>\n",
              "      <th>accuracy</th>\n",
              "      <th>time</th>\n",
              "    </tr>\n",
              "  </thead>\n",
              "  <tbody>\n",
              "  </tbody>\n",
              "</table><p>\n",
              "\n",
              "    <div>\n",
              "        <style>\n",
              "            /* Turns off some styling */\n",
              "            progress {\n",
              "                /* gets rid of default border in Firefox and Opera. */\n",
              "                border: none;\n",
              "                /* Needs to be in here for Safari polyfill so background images work as expected. */\n",
              "                background-size: auto;\n",
              "            }\n",
              "            .progress-bar-interrupted, .progress-bar-interrupted::-webkit-progress-bar {\n",
              "                background: #F44336;\n",
              "            }\n",
              "        </style>\n",
              "      <progress value='99' class='' max='8050', style='width:300px; height:20px; vertical-align: middle;'></progress>\n",
              "      1.23% [99/8050 00:33<44:37 11.2912]\n",
              "    </div>\n",
              "    "
            ],
            "text/plain": [
              "<IPython.core.display.HTML object>"
            ]
          },
          "metadata": {
            "tags": []
          }
        },
        {
          "output_type": "stream",
          "text": [
            "LR Finder is complete, type {learner_name}.recorder.plot() to see the graph.\n"
          ],
          "name": "stdout"
        }
      ]
    },
    {
      "cell_type": "code",
      "metadata": {
        "id": "WeHFzSAGnLSw",
        "colab_type": "code",
        "colab": {
          "base_uri": "https://localhost:8080/",
          "height": 279
        },
        "outputId": "3098b5e3-313d-4f32-cfef-e6613a0a4d8f"
      },
      "source": [
        "learn.recorder.plot(skip_end=15)"
      ],
      "execution_count": 33,
      "outputs": [
        {
          "output_type": "display_data",
          "data": {
            "image/png": "[encoded data removed]",
            "text/plain": [
              "<Figure size 432x288 with 1 Axes>"
            ]
          },
          "metadata": {
            "tags": []
          }
        }
      ]
    },
    {
      "cell_type": "code",
      "metadata": {
        "id": "5az1oDdCnQYA",
        "colab_type": "code",
        "colab": {
          "base_uri": "https://localhost:8080/",
          "height": 80
        },
        "outputId": "bd0f8607-4242-4c47-cfb8-8eccad751133"
      },
      "source": [
        "learn.fit_one_cycle(1, 1e-2, moms=(0.8,0.7))"
      ],
      "execution_count": 34,
      "outputs": [
        {
          "output_type": "display_data",
          "data": {
            "text/html": [
              "<table border=\"1\" class=\"dataframe\">\n",
              "  <thead>\n",
              "    <tr style=\"text-align: left;\">\n",
              "      <th>epoch</th>\n",
              "      <th>train_loss</th>\n",
              "      <th>valid_loss</th>\n",
              "      <th>accuracy</th>\n",
              "      <th>time</th>\n",
              "    </tr>\n",
              "  </thead>\n",
              "  <tbody>\n",
              "    <tr>\n",
              "      <td>0</td>\n",
              "      <td>4.153199</td>\n",
              "      <td>4.020051</td>\n",
              "      <td>0.295099</td>\n",
              "      <td>47:17</td>\n",
              "    </tr>\n",
              "  </tbody>\n",
              "</table>"
            ],
            "text/plain": [
              "<IPython.core.display.HTML object>"
            ]
          },
          "metadata": {
            "tags": []
          }
        }
      ]
    },
    {
      "cell_type": "code",
      "metadata": {
        "id": "UCpG2Bo4nv4C",
        "colab_type": "code",
        "colab": {}
      },
      "source": [
        "learn.save('fit_head')"
      ],
      "execution_count": 0,
      "outputs": []
    },
    {
      "cell_type": "code",
      "metadata": {
        "id": "cTmZpSV7nz11",
        "colab_type": "code",
        "colab": {
          "base_uri": "https://localhost:8080/",
          "height": 1000
        },
        "outputId": "0248533e-a738-42a2-cf49-1e007de67cdd"
      },
      "source": [
        "learn.load('fit_head')"
      ],
      "execution_count": 36,
      "outputs": [
        {
          "output_type": "execute_result",
          "data": {
            "text/plain": [
              "LanguageLearner(data=TextLMDataBunch;\n",
              "\n",
              "Train: LabelList (90000 items)\n",
              "x: LMTextList\n",
              "xxbos a friend of mine made me a tape of various stuff . xxmaj this was on it . i had never even heard of this film before ... now i know why . i wonder why ' xxmaj glitter ' has a lower rating then this drivel , but i am afraid to watch that film to find out for myself lest i wake up in the middle of the night from a xxmaj mariah xxmaj carey nightmare ! ;) \n",
              " \n",
              "  xxmaj so - i watched it , but i watched most of it in fast forward . xxmaj you get the picture that most of the cast are mean people who are going to ' get it in bad ways ' as soon as they are introduced . \n",
              " \n",
              "  xxmaj this is a real stinker - one of those ' heavy metal ' horror films that never should have been conceived . xxmaj the problem is not that the movie is stupid , cheesy , and inane , but that that the movie realizes it is such and still continues to deliver the same old good versus evil confrontation - and guess who wins , and guess how it ends anyway . xxmaj blah blah blah . \n",
              " \n",
              "  xxmaj hey . i like horror films - this one is best avoided , unless you want to witness some of the worst one - liners in xxmaj hollywood history . xxmaj sigh , i guess some movie makers forgot that good horror films died back in the 80 's . \n",
              " \n",
              "  xxmaj on the plus side , this one would have probably made a decent xxmaj tales xxmaj from xxmaj the xxmaj crypt short . xxmaj it does have a very xxup e.c. xxmaj comics feel to it , but that is xxmaj the xxmaj granny 's biggest problem - it only has 20 minutes of entertainment tops . xxmaj and did n't we already see this story in the first tale of ' xxmaj tales xxmaj from the xxmaj crypt ? ' - at least that had xxmaj ed xxmaj harris getting crushed by a tomb stone via zombie telekinesis ! \n",
              " \n",
              "  xxmaj check out ' xxmaj night of the xxmaj demons ' for a better film from this inane sub - facet of the horror genre ( heavy metal evil incarnate ) . xxmaj it sucks too , but at least it did n't annoy me . xxmaj check out xxmaj fulci for some real horror . \n",
              " \n",
              "  1 / 10,xxbos xxmaj this movie is a disaster from beginning to end and i justify my summary because even though it is suppose to be a terror movie there is not terror anywhere . xxmaj the idea that normal looking dogs could ever be scary enough just by showing their teeth is something that beggars belief . xxmaj even if a genetic experiment was done on the dogs the movie is not scary at any point and look ridiculous . xxmaj but there is something far worse and more sinister in this movie . xxmaj we know they are good friends but it happens that once one of them falls victim to the dogs nobody really seems to care and they are left to their own luck . xxmaj for instance , the black guy once he is bitten by two dogs in the cellar they do n't seem even to try to rescue him from the dogs they shut the door and let the dogs finish him off or the guy they find in the woods wounded is left to be eaten by the dogs . xxmaj this film is not believable at all and has many flaws . xxmaj why does n't anybody grab a kitchen knife ? i will not waste any more time on this review , i 'll just sum it up . xxmaj the plot is stupid , the idea ridiculous , not scary at all and full of flaws , discontinuity , badly written and thought out . xxmaj my vote has to be 1 out of 10 .,xxbos xxmaj henry & xxmaj june has a place in film history as the first picture to be rated xxup nc-17 . xxmaj there are films with much more sex a nudity and offensive material than this that get r in the xxup us . \n",
              " \n",
              "  xxmaj the film tells the love triangle of xxmaj henry xxmaj miller ( xxmaj fred xxmaj ward ) , his wife xxmaj june ( the stunning xxmaj uma xxmaj thurman ) and xxmaj anais xxmaj nin ( the equally stunning xxmaj maria de xxmaj medeiros ) . xxmaj there is lots of sex and trips to brothels , a casual lesbian romance and xxmaj henry xxunk between the two leading ladies . xxmaj it is this relaxed sexual freedom that is more the moral center of this movie rather than the sex itself . \n",
              " \n",
              "  xxmaj there are some very erotic scenes , most notably the notorious and famous lesbian encounter between xxmaj anais and xxmaj june towards the end . xxmaj it is brilliantly filmed and contains a very early , wonderful role from xxmaj kevin xxmaj spacey playing a talkative paranoid loser . \n",
              " \n",
              "  xxmaj all these good qualities are not binding enough to make a coherent drama of this length . xxmaj it drags on and has some completely xxunk scenes . xxmaj it provides no real insight into the author as a character , but merely uses the writers a backdrop to tell the love - triangle story . xxmaj henry & xxmaj june seems to stop itself short of being purely a sexual film or a drama . xxmaj but still , it is a very good love triangle story . \n",
              " \n",
              "  * * * out of xxrep 4 * . \n",
              " \n",
              "  xxmaj if you like xxmaj maria de xxmaj medeiros here and in xxmaj pulp xxmaj fiction , then seek out the small xxmaj spanish , xxmaj film xxmaj xxunk .,xxbos xxmaj this was a film that got a rather high score in the xxmaj leonard xxmaj maltin xxmaj guide -- saying the film was \" still potent \" . xxmaj well , i was excited about seeing it , as i love xxmaj american xxup wwii propaganda films and have seen a huge number of them . xxmaj unfortunately , while the original stage production of the play and the subsequent movie made quite a splash , the whole thing seems terribly dated and poorly written today . xxmaj the bottom line is that the film lacks subtlety and has plot holes big enough to fly a xxup b-17 through them ! xxmaj the movie begins well enough , as xxmaj frederic xxmaj march ( a fine actor ) is in the lead . xxmaj but my hopes were soon dashed when the little xxmaj nazi boy ( xxmaj emil ) comes to live with them . xxmaj first , it 's hard to imagine the xxmaj nazis letting a boy leave the country to come to the xxup us while we are at war with them ! xxmaj secondly , it 's hard to imagine the xxup us government just accepting the kid without making sure he was n't a spy or an xxmaj america - hater . xxmaj but regardless , here appears a 12 year - old boy who often sounds quite xxmaj german ( he uses xxmaj german and xxmaj english xxunk ) but his accent also wavers a bit -- almost sounding xxmaj swedish or xxmaj polish from time to time . i guess you ca n't blame him that much , as this is a xxup very demanding role for a young boy . xxmaj but who you can blame are the writers who immediately throw subtlety out the window . xxmaj instead of the kid pretending to love xxmaj america or creating trust with his new family , he immediately acts like the local chairman of the xxmaj hitler fan club -- even showing up to his first meal dressed in full xxmaj hitler xxmaj youth regalia ( including an armband ) . xxmaj now i do n't know about you , but if i 'd been alive during the war and a kid moved in with me and preceded to parade around the house in xxmaj nazi uniform spouting hate , i think i 'd be a bit peeved ! xxmaj but , xxmaj march and the rest try to show him understanding instead of turning the brat over to the xxup fbi ! ! xxmaj plus , while xxmaj march works on top - secret military plans , he does a lousy job of securing them so xxmaj emil is n't able to steal them . xxmaj also , you 'd think when he went to school and began spreading hate and xxmaj nazi propaganda that the school would have taken more notice . xxmaj no trip to the principal 's office , no phone calls home and no contact with the local police . xxmaj it just defies all common sense to think that during the war anyone would have been allowed to act this way without being arrested is crazy . xxmaj america xxup does have freedom of speech , but for a foreign national spreading pro - xxmaj nazi propaganda during the war , this is ridiculous ! xxmaj now if this was the only problem with the film , i guess you could chalk it up to naiveté . xxmaj unfortunately , it got a lot worse . xxmaj emil spread anger and dissent everywhere but no one actually did anything about this ... so far , so good . xxup but , after 1001 warning signs xxup and when he then tries to kill two people ( by beating one with a fireplace poker and then trying to stab another ) , you 'd think the kid would have been deported or arrested or even shot ! xxmaj but , in one of the worst endings in film history , they stupid family feels sorry for the kid and decides , like the xxmaj beatles once said , \" all you need is love \" . xxmaj to make matters worse , the girl who was beaten with the poker was xxmaj march 's own kid and the lady who convinces xxmaj march not to press charges in the end was his xxmaj jewish fiancée ! ! xxmaj yecch ! ! ! xxmaj what drivel . xxmaj the film just does n't make sense and becomes tiresome because of all this .,xxbos xxmaj say what you like about a good independent movie or a good b - movie but to me , a good film like xxup acne , beats a decent $ 80 million dollar film every time . xxmaj yes , the acting is n't as professional with this film , but that adds a certain realism . xxmaj yes , the sets are n't always picture perfect but whose house or office is ? xxup acne is a horror movie for 2005 and beyond . xxmaj the threats to the main characters are as real as what people face everyday around our planet . xxmaj pollution , exploitation , manipulation , false promises , disease and disfigurement but it does so with a twisted black comic heart and believe me , you 're going to laugh ( with the movie ) .\n",
              "y: LMLabelList\n",
              ",,,,\n",
              "Path: /root/.fastai/data/imdb;\n",
              "\n",
              "Valid: LabelList (10000 items)\n",
              "x: LMTextList\n",
              "xxbos xxmaj this is easily the better of all the xxmaj robin xxmaj hood versions , simply for sheer charm . xxmaj the chivalry and gallantry of xxmaj robin xxmaj hood makes him one of the xxunk heroes to all ages . xxmaj the story holds strong in that , for the time , they did n't need nearly as much special effects as we use now . xxmaj it 's bravado and excitement , a movie your kids deserve to see .,xxbos xxmaj yes , this film is made for cable and yes , they could have spent a little more on production . xxmaj but the first time i saw it , i did n't know it was made for cable . i bought the xxup dvd ( had to order it because nobody carries it ) and still find it pretty entertaining . \n",
              " \n",
              "  xxmaj benny xxmaj xxunk ( played exceptionally well by xxmaj david xxmaj xxunk ) takes up book making in college and gets more than he asked for . xxmaj he ends up in a basketball points shaving scheme at xxmaj arizona xxmaj state xxmaj university that makes him rich . xxmaj yeah , the money is easy but greed soon turns the tables on xxmaj benny and his less than reputable business partners . xxmaj the film has a good message , is relatively clean and has great script and actors . xxmaj it does , however , leave you wanting a little more since it xxup is made for xxup t.v. xxmaj still , i 'm happy to own it and i watch it at the start of every college basketball season and maybe a couple of other times throughout the year . \n",
              " \n",
              "  i kind of hope they do n't remake it as it would probably fall victim to xxunk , which seems to be the theme in xxmaj hollywood these days .,xxbos \" xxmaj submerged \" is definitely xxup not \" the worst movie ever \" . xxmaj it does have its flaws , such as borrowed footage , crazy script and non - existent special effects ( these are the worst ) , but it also has some good points too . xxmaj the acting is surprisingly good , there are xxup lots of familiar faces whom you probably know if xxunk a b - movie fan like me . \n",
              " \n",
              "  i was very glad to see xxmaj brent xxmaj huff playing one of the heroes , knowing him mostly for his 80 's action films , and i must admit , he is not a bad actor at all . xxmaj fred xxmaj williamson , xxmaj maxwell xxmaj caulfield & xxmaj tim xxmaj thomerson get some limited screen time , but are believable in their parts . xxmaj the \" eye - candies \" in this xxmaj fred xxmaj olen xxmaj ray movie are xxmaj yvette xxmaj nipar and xxmaj nicole xxmaj eggert , both looking very sexy and very mean . xxmaj michael xxmaj bailey xxmaj smith adds some muscle to the background as a xxmaj navy xxup seal . xxmaj unfortunately the only cast member who ( in my opinion ) is completely out of place is xxmaj coolio . xxmaj he does n't act at all , talks like he did n't even read the script , and being a badass in the beginning of the movie , gets shot like a wimp a hour later . xxmaj not a good choice . \n",
              " \n",
              "  xxmaj to sum this movie up - this is not such a bad choice for late night entertainment . xxmaj if you can get over the special effects thing ( so many guns , so much fire , and not a single wound on anyone ) , xxmaj coolio 's annoying performance , and the recycled footage from xxmaj airport 77 , you might like this no - brainer after all .,xxbos xxmaj common teenager horror movie ... xxmaj teens go to college , first everything seems to be fine , but soon they finds out the dorm they stays in used to be an asylum for mental patients that was tortured by an insane doctor . xxmaj it also seems that all the new students that lives in the \" asylum \" has had some issues in their earlier lives , and now the doctor has come back to \" cure \" them . \n",
              " \n",
              "  xxmaj the plot is very lame , and it is very hard to find anything in this movie interesting . useless effects , bad mood , terrible acting ... this movie is not scary , and its not bad in a way that makes it funny , it is bad in a way that makes you wanna cut open your wrists just so you have no possibilities to watch it ever again . \n",
              " \n",
              "  xxmaj see this if you want to be more bored than you were before you did anything , yes , it is actually better to do nothing than watch this piece of crap .,xxbos i read the other comments here about this movie before watching it . xxmaj if you 've read them , you will know that they are almost all negative . i really do n't understand that . i admit that it is far too long ( it needs about a half hour cut out to speed it up a bit ) . xxmaj the music is often inappropriate . xxmaj but , strong performances by xxmaj ford and xxmaj thomas are indeed enough to carry this . xxmaj with all his fame as a movie star , i 'd forgotten that xxmaj harrison xxmaj ford really can act ! xxmaj this role as a man who has defined himself based upon a lie is remarkable . i find it completely believable that he wants all the details he can get so he can see what was real and what was deception . xxmaj thomas is always wonderful and this is no exception . xxmaj her initial denial which leads to confusion and then to inner calm is tremendous . xxmaj this movie is never going to be on anybody 's list of great flicks , but it is n't that bad . i 'm glad that i waited to see it on video , but it is worth the $ 3 or $ 4 .\n",
              "y: LMLabelList\n",
              ",,,,\n",
              "Path: /root/.fastai/data/imdb;\n",
              "\n",
              "Test: None, model=SequentialRNN(\n",
              "  (0): AWD_LSTM(\n",
              "    (encoder): Embedding(60000, 400, padding_idx=1)\n",
              "    (encoder_dp): EmbeddingDropout(\n",
              "      (emb): Embedding(60000, 400, padding_idx=1)\n",
              "    )\n",
              "    (rnns): ModuleList(\n",
              "      (0): WeightDropout(\n",
              "        (module): LSTM(400, 1152, batch_first=True)\n",
              "      )\n",
              "      (1): WeightDropout(\n",
              "        (module): LSTM(1152, 1152, batch_first=True)\n",
              "      )\n",
              "      (2): WeightDropout(\n",
              "        (module): LSTM(1152, 400, batch_first=True)\n",
              "      )\n",
              "    )\n",
              "    (input_dp): RNNDropout()\n",
              "    (hidden_dps): ModuleList(\n",
              "      (0): RNNDropout()\n",
              "      (1): RNNDropout()\n",
              "      (2): RNNDropout()\n",
              "    )\n",
              "  )\n",
              "  (1): LinearDecoder(\n",
              "    (decoder): Linear(in_features=400, out_features=60000, bias=True)\n",
              "    (output_dp): RNNDropout()\n",
              "  )\n",
              "), opt_func=functools.partial(<class 'torch.optim.adam.Adam'>, betas=(0.9, 0.99)), loss_func=FlattenedLoss of CrossEntropyLoss(), metrics=[<function accuracy at 0x7f39b655f950>], true_wd=True, bn_wd=True, wd=0.01, train_bn=True, path=PosixPath('/root/.fastai/data/imdb'), model_dir='models', callback_fns=[functools.partial(<class 'fastai.basic_train.Recorder'>, add_time=True, silent=False)], callbacks=[RNNTrainer\n",
              "learn: LanguageLearner(data=TextLMDataBunch;\n",
              "\n",
              "Train: LabelList (90000 items)\n",
              "x: LMTextList\n",
              "xxbos a friend of mine made me a tape of various stuff . xxmaj this was on it . i had never even heard of this film before ... now i know why . i wonder why ' xxmaj glitter ' has a lower rating then this drivel , but i am afraid to watch that film to find out for myself lest i wake up in the middle of the night from a xxmaj mariah xxmaj carey nightmare ! ;) \n",
              " \n",
              "  xxmaj so - i watched it , but i watched most of it in fast forward . xxmaj you get the picture that most of the cast are mean people who are going to ' get it in bad ways ' as soon as they are introduced . \n",
              " \n",
              "  xxmaj this is a real stinker - one of those ' heavy metal ' horror films that never should have been conceived . xxmaj the problem is not that the movie is stupid , cheesy , and inane , but that that the movie realizes it is such and still continues to deliver the same old good versus evil confrontation - and guess who wins , and guess how it ends anyway . xxmaj blah blah blah . \n",
              " \n",
              "  xxmaj hey . i like horror films - this one is best avoided , unless you want to witness some of the worst one - liners in xxmaj hollywood history . xxmaj sigh , i guess some movie makers forgot that good horror films died back in the 80 's . \n",
              " \n",
              "  xxmaj on the plus side , this one would have probably made a decent xxmaj tales xxmaj from xxmaj the xxmaj crypt short . xxmaj it does have a very xxup e.c. xxmaj comics feel to it , but that is xxmaj the xxmaj granny 's biggest problem - it only has 20 minutes of entertainment tops . xxmaj and did n't we already see this story in the first tale of ' xxmaj tales xxmaj from the xxmaj crypt ? ' - at least that had xxmaj ed xxmaj harris getting crushed by a tomb stone via zombie telekinesis ! \n",
              " \n",
              "  xxmaj check out ' xxmaj night of the xxmaj demons ' for a better film from this inane sub - facet of the horror genre ( heavy metal evil incarnate ) . xxmaj it sucks too , but at least it did n't annoy me . xxmaj check out xxmaj fulci for some real horror . \n",
              " \n",
              "  1 / 10,xxbos xxmaj this movie is a disaster from beginning to end and i justify my summary because even though it is suppose to be a terror movie there is not terror anywhere . xxmaj the idea that normal looking dogs could ever be scary enough just by showing their teeth is something that beggars belief . xxmaj even if a genetic experiment was done on the dogs the movie is not scary at any point and look ridiculous . xxmaj but there is something far worse and more sinister in this movie . xxmaj we know they are good friends but it happens that once one of them falls victim to the dogs nobody really seems to care and they are left to their own luck . xxmaj for instance , the black guy once he is bitten by two dogs in the cellar they do n't seem even to try to rescue him from the dogs they shut the door and let the dogs finish him off or the guy they find in the woods wounded is left to be eaten by the dogs . xxmaj this film is not believable at all and has many flaws . xxmaj why does n't anybody grab a kitchen knife ? i will not waste any more time on this review , i 'll just sum it up . xxmaj the plot is stupid , the idea ridiculous , not scary at all and full of flaws , discontinuity , badly written and thought out . xxmaj my vote has to be 1 out of 10 .,xxbos xxmaj henry & xxmaj june has a place in film history as the first picture to be rated xxup nc-17 . xxmaj there are films with much more sex a nudity and offensive material than this that get r in the xxup us . \n",
              " \n",
              "  xxmaj the film tells the love triangle of xxmaj henry xxmaj miller ( xxmaj fred xxmaj ward ) , his wife xxmaj june ( the stunning xxmaj uma xxmaj thurman ) and xxmaj anais xxmaj nin ( the equally stunning xxmaj maria de xxmaj medeiros ) . xxmaj there is lots of sex and trips to brothels , a casual lesbian romance and xxmaj henry xxunk between the two leading ladies . xxmaj it is this relaxed sexual freedom that is more the moral center of this movie rather than the sex itself . \n",
              " \n",
              "  xxmaj there are some very erotic scenes , most notably the notorious and famous lesbian encounter between xxmaj anais and xxmaj june towards the end . xxmaj it is brilliantly filmed and contains a very early , wonderful role from xxmaj kevin xxmaj spacey playing a talkative paranoid loser . \n",
              " \n",
              "  xxmaj all these good qualities are not binding enough to make a coherent drama of this length . xxmaj it drags on and has some completely xxunk scenes . xxmaj it provides no real insight into the author as a character , but merely uses the writers a backdrop to tell the love - triangle story . xxmaj henry & xxmaj june seems to stop itself short of being purely a sexual film or a drama . xxmaj but still , it is a very good love triangle story . \n",
              " \n",
              "  * * * out of xxrep 4 * . \n",
              " \n",
              "  xxmaj if you like xxmaj maria de xxmaj medeiros here and in xxmaj pulp xxmaj fiction , then seek out the small xxmaj spanish , xxmaj film xxmaj xxunk .,xxbos xxmaj this was a film that got a rather high score in the xxmaj leonard xxmaj maltin xxmaj guide -- saying the film was \" still potent \" . xxmaj well , i was excited about seeing it , as i love xxmaj american xxup wwii propaganda films and have seen a huge number of them . xxmaj unfortunately , while the original stage production of the play and the subsequent movie made quite a splash , the whole thing seems terribly dated and poorly written today . xxmaj the bottom line is that the film lacks subtlety and has plot holes big enough to fly a xxup b-17 through them ! xxmaj the movie begins well enough , as xxmaj frederic xxmaj march ( a fine actor ) is in the lead . xxmaj but my hopes were soon dashed when the little xxmaj nazi boy ( xxmaj emil ) comes to live with them . xxmaj first , it 's hard to imagine the xxmaj nazis letting a boy leave the country to come to the xxup us while we are at war with them ! xxmaj secondly , it 's hard to imagine the xxup us government just accepting the kid without making sure he was n't a spy or an xxmaj america - hater . xxmaj but regardless , here appears a 12 year - old boy who often sounds quite xxmaj german ( he uses xxmaj german and xxmaj english xxunk ) but his accent also wavers a bit -- almost sounding xxmaj swedish or xxmaj polish from time to time . i guess you ca n't blame him that much , as this is a xxup very demanding role for a young boy . xxmaj but who you can blame are the writers who immediately throw subtlety out the window . xxmaj instead of the kid pretending to love xxmaj america or creating trust with his new family , he immediately acts like the local chairman of the xxmaj hitler fan club -- even showing up to his first meal dressed in full xxmaj hitler xxmaj youth regalia ( including an armband ) . xxmaj now i do n't know about you , but if i 'd been alive during the war and a kid moved in with me and preceded to parade around the house in xxmaj nazi uniform spouting hate , i think i 'd be a bit peeved ! xxmaj but , xxmaj march and the rest try to show him understanding instead of turning the brat over to the xxup fbi ! ! xxmaj plus , while xxmaj march works on top - secret military plans , he does a lousy job of securing them so xxmaj emil is n't able to steal them . xxmaj also , you 'd think when he went to school and began spreading hate and xxmaj nazi propaganda that the school would have taken more notice . xxmaj no trip to the principal 's office , no phone calls home and no contact with the local police . xxmaj it just defies all common sense to think that during the war anyone would have been allowed to act this way without being arrested is crazy . xxmaj america xxup does have freedom of speech , but for a foreign national spreading pro - xxmaj nazi propaganda during the war , this is ridiculous ! xxmaj now if this was the only problem with the film , i guess you could chalk it up to naiveté . xxmaj unfortunately , it got a lot worse . xxmaj emil spread anger and dissent everywhere but no one actually did anything about this ... so far , so good . xxup but , after 1001 warning signs xxup and when he then tries to kill two people ( by beating one with a fireplace poker and then trying to stab another ) , you 'd think the kid would have been deported or arrested or even shot ! xxmaj but , in one of the worst endings in film history , they stupid family feels sorry for the kid and decides , like the xxmaj beatles once said , \" all you need is love \" . xxmaj to make matters worse , the girl who was beaten with the poker was xxmaj march 's own kid and the lady who convinces xxmaj march not to press charges in the end was his xxmaj jewish fiancée ! ! xxmaj yecch ! ! ! xxmaj what drivel . xxmaj the film just does n't make sense and becomes tiresome because of all this .,xxbos xxmaj say what you like about a good independent movie or a good b - movie but to me , a good film like xxup acne , beats a decent $ 80 million dollar film every time . xxmaj yes , the acting is n't as professional with this film , but that adds a certain realism . xxmaj yes , the sets are n't always picture perfect but whose house or office is ? xxup acne is a horror movie for 2005 and beyond . xxmaj the threats to the main characters are as real as what people face everyday around our planet . xxmaj pollution , exploitation , manipulation , false promises , disease and disfigurement but it does so with a twisted black comic heart and believe me , you 're going to laugh ( with the movie ) .\n",
              "y: LMLabelList\n",
              ",,,,\n",
              "Path: /root/.fastai/data/imdb;\n",
              "\n",
              "Valid: LabelList (10000 items)\n",
              "x: LMTextList\n",
              "xxbos xxmaj this is easily the better of all the xxmaj robin xxmaj hood versions , simply for sheer charm . xxmaj the chivalry and gallantry of xxmaj robin xxmaj hood makes him one of the xxunk heroes to all ages . xxmaj the story holds strong in that , for the time , they did n't need nearly as much special effects as we use now . xxmaj it 's bravado and excitement , a movie your kids deserve to see .,xxbos xxmaj yes , this film is made for cable and yes , they could have spent a little more on production . xxmaj but the first time i saw it , i did n't know it was made for cable . i bought the xxup dvd ( had to order it because nobody carries it ) and still find it pretty entertaining . \n",
              " \n",
              "  xxmaj benny xxmaj xxunk ( played exceptionally well by xxmaj david xxmaj xxunk ) takes up book making in college and gets more than he asked for . xxmaj he ends up in a basketball points shaving scheme at xxmaj arizona xxmaj state xxmaj university that makes him rich . xxmaj yeah , the money is easy but greed soon turns the tables on xxmaj benny and his less than reputable business partners . xxmaj the film has a good message , is relatively clean and has great script and actors . xxmaj it does , however , leave you wanting a little more since it xxup is made for xxup t.v. xxmaj still , i 'm happy to own it and i watch it at the start of every college basketball season and maybe a couple of other times throughout the year . \n",
              " \n",
              "  i kind of hope they do n't remake it as it would probably fall victim to xxunk , which seems to be the theme in xxmaj hollywood these days .,xxbos \" xxmaj submerged \" is definitely xxup not \" the worst movie ever \" . xxmaj it does have its flaws , such as borrowed footage , crazy script and non - existent special effects ( these are the worst ) , but it also has some good points too . xxmaj the acting is surprisingly good , there are xxup lots of familiar faces whom you probably know if xxunk a b - movie fan like me . \n",
              " \n",
              "  i was very glad to see xxmaj brent xxmaj huff playing one of the heroes , knowing him mostly for his 80 's action films , and i must admit , he is not a bad actor at all . xxmaj fred xxmaj williamson , xxmaj maxwell xxmaj caulfield & xxmaj tim xxmaj thomerson get some limited screen time , but are believable in their parts . xxmaj the \" eye - candies \" in this xxmaj fred xxmaj olen xxmaj ray movie are xxmaj yvette xxmaj nipar and xxmaj nicole xxmaj eggert , both looking very sexy and very mean . xxmaj michael xxmaj bailey xxmaj smith adds some muscle to the background as a xxmaj navy xxup seal . xxmaj unfortunately the only cast member who ( in my opinion ) is completely out of place is xxmaj coolio . xxmaj he does n't act at all , talks like he did n't even read the script , and being a badass in the beginning of the movie , gets shot like a wimp a hour later . xxmaj not a good choice . \n",
              " \n",
              "  xxmaj to sum this movie up - this is not such a bad choice for late night entertainment . xxmaj if you can get over the special effects thing ( so many guns , so much fire , and not a single wound on anyone ) , xxmaj coolio 's annoying performance , and the recycled footage from xxmaj airport 77 , you might like this no - brainer after all .,xxbos xxmaj common teenager horror movie ... xxmaj teens go to college , first everything seems to be fine , but soon they finds out the dorm they stays in used to be an asylum for mental patients that was tortured by an insane doctor . xxmaj it also seems that all the new students that lives in the \" asylum \" has had some issues in their earlier lives , and now the doctor has come back to \" cure \" them . \n",
              " \n",
              "  xxmaj the plot is very lame , and it is very hard to find anything in this movie interesting . useless effects , bad mood , terrible acting ... this movie is not scary , and its not bad in a way that makes it funny , it is bad in a way that makes you wanna cut open your wrists just so you have no possibilities to watch it ever again . \n",
              " \n",
              "  xxmaj see this if you want to be more bored than you were before you did anything , yes , it is actually better to do nothing than watch this piece of crap .,xxbos i read the other comments here about this movie before watching it . xxmaj if you 've read them , you will know that they are almost all negative . i really do n't understand that . i admit that it is far too long ( it needs about a half hour cut out to speed it up a bit ) . xxmaj the music is often inappropriate . xxmaj but , strong performances by xxmaj ford and xxmaj thomas are indeed enough to carry this . xxmaj with all his fame as a movie star , i 'd forgotten that xxmaj harrison xxmaj ford really can act ! xxmaj this role as a man who has defined himself based upon a lie is remarkable . i find it completely believable that he wants all the details he can get so he can see what was real and what was deception . xxmaj thomas is always wonderful and this is no exception . xxmaj her initial denial which leads to confusion and then to inner calm is tremendous . xxmaj this movie is never going to be on anybody 's list of great flicks , but it is n't that bad . i 'm glad that i waited to see it on video , but it is worth the $ 3 or $ 4 .\n",
              "y: LMLabelList\n",
              ",,,,\n",
              "Path: /root/.fastai/data/imdb;\n",
              "\n",
              "Test: None, model=SequentialRNN(\n",
              "  (0): AWD_LSTM(\n",
              "    (encoder): Embedding(60000, 400, padding_idx=1)\n",
              "    (encoder_dp): EmbeddingDropout(\n",
              "      (emb): Embedding(60000, 400, padding_idx=1)\n",
              "    )\n",
              "    (rnns): ModuleList(\n",
              "      (0): WeightDropout(\n",
              "        (module): LSTM(400, 1152, batch_first=True)\n",
              "      )\n",
              "      (1): WeightDropout(\n",
              "        (module): LSTM(1152, 1152, batch_first=True)\n",
              "      )\n",
              "      (2): WeightDropout(\n",
              "        (module): LSTM(1152, 400, batch_first=True)\n",
              "      )\n",
              "    )\n",
              "    (input_dp): RNNDropout()\n",
              "    (hidden_dps): ModuleList(\n",
              "      (0): RNNDropout()\n",
              "      (1): RNNDropout()\n",
              "      (2): RNNDropout()\n",
              "    )\n",
              "  )\n",
              "  (1): LinearDecoder(\n",
              "    (decoder): Linear(in_features=400, out_features=60000, bias=True)\n",
              "    (output_dp): RNNDropout()\n",
              "  )\n",
              "), opt_func=functools.partial(<class 'torch.optim.adam.Adam'>, betas=(0.9, 0.99)), loss_func=FlattenedLoss of CrossEntropyLoss(), metrics=[<function accuracy at 0x7f39b655f950>], true_wd=True, bn_wd=True, wd=0.01, train_bn=True, path=PosixPath('/root/.fastai/data/imdb'), model_dir='models', callback_fns=[functools.partial(<class 'fastai.basic_train.Recorder'>, add_time=True, silent=False)], callbacks=[...], layer_groups=[Sequential(\n",
              "  (0): WeightDropout(\n",
              "    (module): LSTM(400, 1152, batch_first=True)\n",
              "  )\n",
              "  (1): RNNDropout()\n",
              "), Sequential(\n",
              "  (0): WeightDropout(\n",
              "    (module): LSTM(1152, 1152, batch_first=True)\n",
              "  )\n",
              "  (1): RNNDropout()\n",
              "), Sequential(\n",
              "  (0): WeightDropout(\n",
              "    (module): LSTM(1152, 400, batch_first=True)\n",
              "  )\n",
              "  (1): RNNDropout()\n",
              "), Sequential(\n",
              "  (0): Embedding(60000, 400, padding_idx=1)\n",
              "  (1): EmbeddingDropout(\n",
              "    (emb): Embedding(60000, 400, padding_idx=1)\n",
              "  )\n",
              "  (2): LinearDecoder(\n",
              "    (decoder): Linear(in_features=400, out_features=60000, bias=True)\n",
              "    (output_dp): RNNDropout()\n",
              "  )\n",
              ")], add_time=True, silent=False)\n",
              "alpha: 2.0\n",
              "beta: 1.0], layer_groups=[Sequential(\n",
              "  (0): WeightDropout(\n",
              "    (module): LSTM(400, 1152, batch_first=True)\n",
              "  )\n",
              "  (1): RNNDropout()\n",
              "), Sequential(\n",
              "  (0): WeightDropout(\n",
              "    (module): LSTM(1152, 1152, batch_first=True)\n",
              "  )\n",
              "  (1): RNNDropout()\n",
              "), Sequential(\n",
              "  (0): WeightDropout(\n",
              "    (module): LSTM(1152, 400, batch_first=True)\n",
              "  )\n",
              "  (1): RNNDropout()\n",
              "), Sequential(\n",
              "  (0): Embedding(60000, 400, padding_idx=1)\n",
              "  (1): EmbeddingDropout(\n",
              "    (emb): Embedding(60000, 400, padding_idx=1)\n",
              "  )\n",
              "  (2): LinearDecoder(\n",
              "    (decoder): Linear(in_features=400, out_features=60000, bias=True)\n",
              "    (output_dp): RNNDropout()\n",
              "  )\n",
              ")], add_time=True, silent=False)"
            ]
          },
          "metadata": {
            "tags": []
          },
          "execution_count": 36
        }
      ]
    },
    {
      "cell_type": "code",
      "metadata": {
        "id": "RkCFEy5ioRY_",
        "colab_type": "code",
        "colab": {}
      },
      "source": [
        "learn.unfreeze()"
      ],
      "execution_count": 0,
      "outputs": []
    },
    {
      "cell_type": "code",
      "metadata": {
        "id": "WhIPGFvooYP4",
        "colab_type": "code",
        "colab": {
          "base_uri": "https://localhost:8080/",
          "height": 95
        },
        "outputId": "b7f1f76f-c1f8-4c95-ac0b-f392215a8924"
      },
      "source": [
        "learn.fit_one_cycle(10, 1e-3, moms=(0.8,0.7))\n"
      ],
      "execution_count": 0,
      "outputs": [
        {
          "output_type": "display_data",
          "data": {
            "text/html": [
              "\n",
              "    <div>\n",
              "        <style>\n",
              "            /* Turns off some styling */\n",
              "            progress {\n",
              "                /* gets rid of default border in Firefox and Opera. */\n",
              "                border: none;\n",
              "                /* Needs to be in here for Safari polyfill so background images work as expected. */\n",
              "                background-size: auto;\n",
              "            }\n",
              "            .progress-bar-interrupted, .progress-bar-interrupted::-webkit-progress-bar {\n",
              "                background: #F44336;\n",
              "            }\n",
              "        </style>\n",
              "      <progress value='0' class='' max='10', style='width:300px; height:20px; vertical-align: middle;'></progress>\n",
              "      0.00% [0/10 00:00<00:00]\n",
              "    </div>\n",
              "    \n",
              "<table border=\"1\" class=\"dataframe\">\n",
              "  <thead>\n",
              "    <tr style=\"text-align: left;\">\n",
              "      <th>epoch</th>\n",
              "      <th>train_loss</th>\n",
              "      <th>valid_loss</th>\n",
              "      <th>accuracy</th>\n",
              "      <th>time</th>\n",
              "    </tr>\n",
              "  </thead>\n",
              "  <tbody>\n",
              "  </tbody>\n",
              "</table><p>\n",
              "\n",
              "    <div>\n",
              "        <style>\n",
              "            /* Turns off some styling */\n",
              "            progress {\n",
              "                /* gets rid of default border in Firefox and Opera. */\n",
              "                border: none;\n",
              "                /* Needs to be in here for Safari polyfill so background images work as expected. */\n",
              "                background-size: auto;\n",
              "            }\n",
              "            .progress-bar-interrupted, .progress-bar-interrupted::-webkit-progress-bar {\n",
              "                background: #F44336;\n",
              "            }\n",
              "        </style>\n",
              "      <progress value='2193' class='' max='8050', style='width:300px; height:20px; vertical-align: middle;'></progress>\n",
              "      27.24% [2193/8050 13:44<36:40 3.9518]\n",
              "    </div>\n",
              "    "
            ],
            "text/plain": [
              "<IPython.core.display.HTML object>"
            ]
          },
          "metadata": {
            "tags": []
          }
        }
      ]
    },
    {
      "cell_type": "code",
      "metadata": {
        "id": "A4eU7WSfofjx",
        "colab_type": "code",
        "colab": {}
      },
      "source": [
        "learn.save('fine_tuned')"
      ],
      "execution_count": 0,
      "outputs": []
    },
    {
      "cell_type": "code",
      "metadata": {
        "id": "S4suq59hojwm",
        "colab_type": "code",
        "colab": {}
      },
      "source": [
        "learn.load('fine_tuned')"
      ],
      "execution_count": 0,
      "outputs": []
    },
    {
      "cell_type": "code",
      "metadata": {
        "id": "lNSxMbBPooR2",
        "colab_type": "code",
        "colab": {}
      },
      "source": [
        "TEXT = 'I liked this movie because'\n",
        "N_WORDS = 40\n",
        "N_SENTENCES = 2"
      ],
      "execution_count": 0,
      "outputs": []
    },
    {
      "cell_type": "code",
      "metadata": {
        "id": "oSk5NHMYozew",
        "colab_type": "code",
        "colab": {}
      },
      "source": [
        "print(\"\\n\".join(learn.predict(TEXT,N_WORDS,temperature=0.75) for _ in range(N_SENTENCES)))"
      ],
      "execution_count": 0,
      "outputs": []
    },
    {
      "cell_type": "code",
      "metadata": {
        "id": "DqM0NJMJpGj2",
        "colab_type": "code",
        "colab": {}
      },
      "source": [
        "learn.save_encoder('fine_tuned_enc')"
      ],
      "execution_count": 0,
      "outputs": []
    },
    {
      "cell_type": "code",
      "metadata": {
        "id": "bIt0L_g0pOe3",
        "colab_type": "code",
        "colab": {}
      },
      "source": [
        ""
      ],
      "execution_count": 0,
      "outputs": []
    },
    {
      "cell_type": "markdown",
      "metadata": {
        "id": "7Q3NI30cqQ-w",
        "colab_type": "text"
      },
      "source": [
        "**Classifier**"
      ]
    },
    {
      "cell_type": "code",
      "metadata": {
        "id": "Z2sWU3lhqTAw",
        "colab_type": "code",
        "colab": {}
      },
      "source": [
        "path = untar_data(URLs.IMDB)"
      ],
      "execution_count": 0,
      "outputs": []
    },
    {
      "cell_type": "code",
      "metadata": {
        "id": "2yza8yuiqZWH",
        "colab_type": "code",
        "colab": {}
      },
      "source": [
        "data_class = (TextList.from_folder(path, vocab=data_lm.vocab)\n",
        "              #grab all the text files in path\n",
        "              .split_by_folder(valid='test')\n",
        "              #split by train and valid folder(that only keeps 'train and'test' so no filter)\n",
        "              .label_from_folder(classes=['neg','pos'])\n",
        "              #label_them all with their folders\n",
        "              .databunch(bs=bs))\n",
        "data_clas.save('data_clas.pkl')"
      ],
      "execution_count": 0,
      "outputs": []
    },
    {
      "cell_type": "code",
      "metadata": {
        "id": "v3oLrXuXrX3c",
        "colab_type": "code",
        "colab": {}
      },
      "source": [
        "data_clas = load_data(path, 'data_clas.pkl', bs=bs)"
      ],
      "execution_count": 0,
      "outputs": []
    },
    {
      "cell_type": "code",
      "metadata": {
        "id": "RcfVLuhHre7b",
        "colab_type": "code",
        "colab": {}
      },
      "source": [
        "data_clas.show_batch()"
      ],
      "execution_count": 0,
      "outputs": []
    },
    {
      "cell_type": "code",
      "metadata": {
        "id": "5yiTS-4hrhhH",
        "colab_type": "code",
        "colab": {}
      },
      "source": [
        "learn = text_classifier_learner(data_clas, AWD_LSTM, drop_mult=0.5)\n",
        "learn.load_encoder('fine_tuned_enc')"
      ],
      "execution_count": 0,
      "outputs": []
    },
    {
      "cell_type": "code",
      "metadata": {
        "id": "_xEZCBmFrzsc",
        "colab_type": "code",
        "colab": {}
      },
      "source": [
        "learn.lr_find()"
      ],
      "execution_count": 0,
      "outputs": []
    },
    {
      "cell_type": "code",
      "metadata": {
        "id": "_4Z16dlYr2J0",
        "colab_type": "code",
        "colab": {}
      },
      "source": [
        "learn.recorder.plot()"
      ],
      "execution_count": 0,
      "outputs": []
    },
    {
      "cell_type": "code",
      "metadata": {
        "id": "nDcqlhOfr49w",
        "colab_type": "code",
        "colab": {}
      },
      "source": [
        "learn.fit_one_cycle(1,2e-2,moms=(0.8,0.7))"
      ],
      "execution_count": 0,
      "outputs": []
    },
    {
      "cell_type": "code",
      "metadata": {
        "id": "1lRnutDasBJ3",
        "colab_type": "code",
        "colab": {}
      },
      "source": [
        "learn.freeze_to(-2)\n",
        "learn.fit_one_cycle(1,slice(1e-2/(2.6**4),1e-2), moms=(0.8,0.7))"
      ],
      "execution_count": 0,
      "outputs": []
    },
    {
      "cell_type": "code",
      "metadata": {
        "id": "vc4YtO_hsTdG",
        "colab_type": "code",
        "colab": {}
      },
      "source": [
        "learn.save('second')"
      ],
      "execution_count": 0,
      "outputs": []
    },
    {
      "cell_type": "code",
      "metadata": {
        "id": "3zUnCJTKsVbl",
        "colab_type": "code",
        "colab": {}
      },
      "source": [
        "learn.load('second');"
      ],
      "execution_count": 0,
      "outputs": []
    },
    {
      "cell_type": "code",
      "metadata": {
        "id": "hWx29Jcgsb_X",
        "colab_type": "code",
        "colab": {}
      },
      "source": [
        "learn.freeze_to(-3)\n",
        "learn_fit_one_cycle(1,slice(5e-3/(2.6**4),5e-3), moms=(0.8,0.7))"
      ],
      "execution_count": 0,
      "outputs": []
    },
    {
      "cell_type": "code",
      "metadata": {
        "id": "wuxT5dauszCz",
        "colab_type": "code",
        "colab": {}
      },
      "source": [
        "learn.save('third')"
      ],
      "execution_count": 0,
      "outputs": []
    },
    {
      "cell_type": "code",
      "metadata": {
        "id": "mqPBkh5Ys3JF",
        "colab_type": "code",
        "colab": {}
      },
      "source": [
        "learn.load('third')"
      ],
      "execution_count": 0,
      "outputs": []
    },
    {
      "cell_type": "code",
      "metadata": {
        "id": "OUjX13o4s85E",
        "colab_type": "code",
        "colab": {}
      },
      "source": [
        "learn.unfreeze()\n",
        "learn.fit_one_cycle(2,slice(1e-3/(2.6**4),1e-3), moms=(0.8,0.7))"
      ],
      "execution_count": 0,
      "outputs": []
    },
    {
      "cell_type": "code",
      "metadata": {
        "id": "6fGzMk7PtKCX",
        "colab_type": "code",
        "colab": {}
      },
      "source": [
        "learn.predict(\"I really loved that movie, it was awesome!\")"
      ],
      "execution_count": 0,
      "outputs": []
    },
    {
      "cell_type": "code",
      "metadata": {
        "id": "k4IG6M_vtS7A",
        "colab_type": "code",
        "colab": {}
      },
      "source": [
        ""
      ],
      "execution_count": 0,
      "outputs": []
    }
  ]
}