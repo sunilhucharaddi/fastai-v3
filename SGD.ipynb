{
  "nbformat": 4,
  "nbformat_minor": 0,
  "metadata": {
    "colab": {
      "name": "SGD.ipynb",
      "provenance": [],
      "authorship_tag": "ABX9TyOLJYCye5fE53CpY6+bcz+L",
      "include_colab_link": true
    },
    "kernelspec": {
      "name": "python3",
      "display_name": "Python 3"
    },
    "accelerator": "GPU"
  },
  "cells": [
    {
      "cell_type": "markdown",
      "metadata": {
        "id": "view-in-github",
        "colab_type": "text"
      },
      "source": [
        "<a href=\"https://colab.research.google.com/github/sunilhucharaddi/fastai-v3/blob/master/SGD.ipynb\" target=\"_parent\"><img src=\"https://colab.research.google.com/assets/colab-badge.svg\" alt=\"Open In Colab\"/></a>"
      ]
    },
    {
      "cell_type": "code",
      "metadata": {
        "id": "aGkZjeeT9IaM",
        "colab_type": "code",
        "colab": {
          "base_uri": "https://localhost:8080/",
          "height": 51
        },
        "outputId": "aaa2fe57-27f9-4c8c-9ced-c93610514ad3"
      },
      "source": [
        "  !curl -s https://course.fast.ai/setup/colab | bash\n"
      ],
      "execution_count": 1,
      "outputs": [
        {
          "output_type": "stream",
          "text": [
            "Updating fastai...\n",
            "Done.\n"
          ],
          "name": "stdout"
        }
      ]
    },
    {
      "cell_type": "code",
      "metadata": {
        "id": "8Tk4d45V9R4q",
        "colab_type": "code",
        "colab": {
          "base_uri": "https://localhost:8080/",
          "height": 122
        },
        "outputId": "281dadac-df3e-4901-b9aa-7ac877f878a7"
      },
      "source": [
        "from google.colab import drive\n",
        "drive.mount('/content/gdrive', force_remount=True)\n",
        "root_dir = \"/content/gdrive/My Drive/\"\n",
        "base_dir = root_dir + 'fastai-v3/'"
      ],
      "execution_count": 2,
      "outputs": [
        {
          "output_type": "stream",
          "text": [
            "Go to this URL in a browser: https://accounts.google.com/o/oauth2/auth?client_id=947318989803-6bn6qk8qdgf4n4g3pfee6491hc0brc4i.apps.googleusercontent.com&redirect_uri=urn%3aietf%3awg%3aoauth%3a2.0%3aoob&response_type=code&scope=email%20https%3a%2f%2fwww.googleapis.com%2fauth%2fdocs.test%20https%3a%2f%2fwww.googleapis.com%2fauth%2fdrive%20https%3a%2f%2fwww.googleapis.com%2fauth%2fdrive.photos.readonly%20https%3a%2f%2fwww.googleapis.com%2fauth%2fpeopleapi.readonly\n",
            "\n",
            "Enter your authorization code:\n",
            "··········\n",
            "Mounted at /content/gdrive\n"
          ],
          "name": "stdout"
        }
      ]
    },
    {
      "cell_type": "code",
      "metadata": {
        "id": "BUYB4HFi9WGx",
        "colab_type": "code",
        "colab": {}
      },
      "source": [
        "%matplotlib inline\n",
        "from fastai.basics import *"
      ],
      "execution_count": 0,
      "outputs": []
    },
    {
      "cell_type": "code",
      "metadata": {
        "id": "QSbpnDPa9u-C",
        "colab_type": "code",
        "colab": {}
      },
      "source": [
        ""
      ],
      "execution_count": 0,
      "outputs": []
    },
    {
      "cell_type": "markdown",
      "metadata": {
        "id": "_Li1gSA--DfO",
        "colab_type": "text"
      },
      "source": [
        "**Linear Regression Problem**"
      ]
    },
    {
      "cell_type": "code",
      "metadata": {
        "id": "FDeHANZQ-HQJ",
        "colab_type": "code",
        "colab": {}
      },
      "source": [
        "n=100"
      ],
      "execution_count": 0,
      "outputs": []
    },
    {
      "cell_type": "code",
      "metadata": {
        "id": "zR3-PLL_-J50",
        "colab_type": "code",
        "colab": {
          "base_uri": "https://localhost:8080/",
          "height": 102
        },
        "outputId": "9f9e74ea-286f-4317-db02-a6113ce5428e"
      },
      "source": [
        "x = torch.ones(n,2)\n",
        "x[:,0].uniform_(-1.,1)\n",
        "x[:5]"
      ],
      "execution_count": 6,
      "outputs": [
        {
          "output_type": "execute_result",
          "data": {
            "text/plain": [
              "tensor([[ 0.9935,  1.0000],\n",
              "        [-0.0068,  1.0000],\n",
              "        [ 0.8653,  1.0000],\n",
              "        [-0.0773,  1.0000],\n",
              "        [ 0.6690,  1.0000]])"
            ]
          },
          "metadata": {
            "tags": []
          },
          "execution_count": 6
        }
      ]
    },
    {
      "cell_type": "code",
      "metadata": {
        "id": "VZeXS1rR-PXd",
        "colab_type": "code",
        "colab": {
          "base_uri": "https://localhost:8080/",
          "height": 34
        },
        "outputId": "723978b0-9d6b-487f-9db5-fbd41d85954e"
      },
      "source": [
        "a = tensor(3.,2);a"
      ],
      "execution_count": 7,
      "outputs": [
        {
          "output_type": "execute_result",
          "data": {
            "text/plain": [
              "tensor([3., 2.])"
            ]
          },
          "metadata": {
            "tags": []
          },
          "execution_count": 7
        }
      ]
    },
    {
      "cell_type": "code",
      "metadata": {
        "id": "m3YjDrqO-enR",
        "colab_type": "code",
        "colab": {}
      },
      "source": [
        "y = x@a + torch.rand(n)"
      ],
      "execution_count": 0,
      "outputs": []
    },
    {
      "cell_type": "code",
      "metadata": {
        "id": "aiIpc3YZ-jLD",
        "colab_type": "code",
        "colab": {
          "base_uri": "https://localhost:8080/",
          "height": 282
        },
        "outputId": "78e03df5-6fd1-4d09-aca5-4347bdf5d5a2"
      },
      "source": [
        "plt.scatter(x[:,0],y)"
      ],
      "execution_count": 9,
      "outputs": [
        {
          "output_type": "execute_result",
          "data": {
            "text/plain": [
              "<matplotlib.collections.PathCollection at 0x7f72ccc93b38>"
            ]
          },
          "metadata": {
            "tags": []
          },
          "execution_count": 9
        },
        {
          "output_type": "display_data",
          "data": {
            "image/png": "[encoded data removed]",
            "text/plain": [
              "<Figure size 432x288 with 1 Axes>"
            ]
          },
          "metadata": {
            "tags": []
          }
        }
      ]
    },
    {
      "cell_type": "markdown",
      "metadata": {
        "id": "7BVii_3b_N6e",
        "colab_type": "text"
      },
      "source": [
        "**Mean Sqaured Error**"
      ]
    },
    {
      "cell_type": "code",
      "metadata": {
        "id": "SHd92G6g-n_3",
        "colab_type": "code",
        "colab": {}
      },
      "source": [
        "def mse(y_hat,y): return ((y_hat-y)**2).mean()"
      ],
      "execution_count": 0,
      "outputs": []
    },
    {
      "cell_type": "markdown",
      "metadata": {
        "id": "ffG6akId_Yr-",
        "colab_type": "text"
      },
      "source": [
        "suppose we believe a = (-1,1)"
      ]
    },
    {
      "cell_type": "code",
      "metadata": {
        "id": "nAe47y-__LDg",
        "colab_type": "code",
        "colab": {}
      },
      "source": [
        "a = tensor(-1.,1)"
      ],
      "execution_count": 0,
      "outputs": []
    },
    {
      "cell_type": "code",
      "metadata": {
        "id": "qECfDn2S_kH7",
        "colab_type": "code",
        "colab": {
          "base_uri": "https://localhost:8080/",
          "height": 34
        },
        "outputId": "7d350c49-2135-4909-a037-19d3e6a1fc1c"
      },
      "source": [
        "y_hat = x@a\n",
        "mse(y_hat,y)"
      ],
      "execution_count": 15,
      "outputs": [
        {
          "output_type": "execute_result",
          "data": {
            "text/plain": [
              "tensor(7.2145)"
            ]
          },
          "metadata": {
            "tags": []
          },
          "execution_count": 15
        }
      ]
    },
    {
      "cell_type": "code",
      "metadata": {
        "id": "OcOBgY4Q_nfc",
        "colab_type": "code",
        "colab": {
          "base_uri": "https://localhost:8080/",
          "height": 282
        },
        "outputId": "1c24c528-bf4b-4d09-8a1e-cee7f6e34402"
      },
      "source": [
        "plt.scatter(x[:,0],y)\n",
        "plt.scatter(x[:,0],y_hat)"
      ],
      "execution_count": 18,
      "outputs": [
        {
          "output_type": "execute_result",
          "data": {
            "text/plain": [
              "<matplotlib.collections.PathCollection at 0x7f72c9dac940>"
            ]
          },
          "metadata": {
            "tags": []
          },
          "execution_count": 18
        },
        {
          "output_type": "display_data",
          "data": {
            "image/png": "[encoded data removed]",
            "text/plain": [
              "<Figure size 432x288 with 1 Axes>"
            ]
          },
          "metadata": {
            "tags": []
          }
        }
      ]
    },
    {
      "cell_type": "markdown",
      "metadata": {
        "id": "VRt4MJlVALzr",
        "colab_type": "text"
      },
      "source": [
        "**Now we have to find algorithm to find best a by looking for minimum mse achievable *Gradient Descent* is one such funtion**"
      ]
    },
    {
      "cell_type": "code",
      "metadata": {
        "id": "AB4r6q89KwW9",
        "colab_type": "code",
        "colab": {}
      },
      "source": [
        "from fastai import *"
      ],
      "execution_count": 0,
      "outputs": []
    },
    {
      "cell_type": "code",
      "metadata": {
        "id": "-PIYhgVx_yYl",
        "colab_type": "code",
        "colab": {
          "base_uri": "https://localhost:8080/",
          "height": 51
        },
        "outputId": "527f34d2-1f16-47fd-b1ba-3c7d168947c1"
      },
      "source": [
        "a = nn.Parameter(a);a"
      ],
      "execution_count": 114,
      "outputs": [
        {
          "output_type": "execute_result",
          "data": {
            "text/plain": [
              "Parameter containing:\n",
              "tensor([-1.,  1.], requires_grad=True)"
            ]
          },
          "metadata": {
            "tags": []
          },
          "execution_count": 114
        }
      ]
    },
    {
      "cell_type": "code",
      "metadata": {
        "id": "Jg-3jNnt_3di",
        "colab_type": "code",
        "colab": {}
      },
      "source": [
        "def update():\n",
        "    y_hat = x@a\n",
        "    loss = mse(y,y_hat)\n",
        "    if t % 10 == 0: print(loss)\n",
        "    loss.backward()\n",
        "    with torch.no_grad():\n",
        "      a.sub_(lr * a.grad)\n",
        "      a.grad.zero_()\n"
      ],
      "execution_count": 0,
      "outputs": []
    },
    {
      "cell_type": "code",
      "metadata": {
        "id": "GAh--gEJAuMA",
        "colab_type": "code",
        "colab": {
          "base_uri": "https://localhost:8080/",
          "height": 187
        },
        "outputId": "edf5ae86-ce4d-44fe-fff3-aa5129620f66"
      },
      "source": [
        "lr = 1e-1\n",
        "for t in range(100): update()"
      ],
      "execution_count": 116,
      "outputs": [
        {
          "output_type": "stream",
          "text": [
            "tensor(7.2145, grad_fn=<MeanBackward0>)\n",
            "tensor(1.4883, grad_fn=<MeanBackward0>)\n",
            "tensor(0.5096, grad_fn=<MeanBackward0>)\n",
            "tensor(0.2150, grad_fn=<MeanBackward0>)\n",
            "tensor(0.1237, grad_fn=<MeanBackward0>)\n",
            "tensor(0.0954, grad_fn=<MeanBackward0>)\n",
            "tensor(0.0866, grad_fn=<MeanBackward0>)\n",
            "tensor(0.0839, grad_fn=<MeanBackward0>)\n",
            "tensor(0.0830, grad_fn=<MeanBackward0>)\n",
            "tensor(0.0828, grad_fn=<MeanBackward0>)\n"
          ],
          "name": "stdout"
        }
      ]
    },
    {
      "cell_type": "code",
      "metadata": {
        "id": "WxQRwHVJDIIM",
        "colab_type": "code",
        "colab": {
          "base_uri": "https://localhost:8080/",
          "height": 282
        },
        "outputId": "53114330-9ea4-4665-b5f4-4b561d01674e"
      },
      "source": [
        "a = a.detach()\n",
        "plt.scatter(x[:,0],y)\n",
        "plt.scatter(x[:,0],x@a)"
      ],
      "execution_count": 117,
      "outputs": [
        {
          "output_type": "execute_result",
          "data": {
            "text/plain": [
              "<matplotlib.collections.PathCollection at 0x7f72c687f710>"
            ]
          },
          "metadata": {
            "tags": []
          },
          "execution_count": 117
        },
        {
          "output_type": "display_data",
          "data": {
            "image/png": "[encoded data removed]",
            "text/plain": [
              "<Figure size 432x288 with 1 Axes>"
            ]
          },
          "metadata": {
            "tags": []
          }
        }
      ]
    },
    {
      "cell_type": "code",
      "metadata": {
        "id": "4_mdzPkWD8oR",
        "colab_type": "code",
        "colab": {}
      },
      "source": [
        "from matplotlib import animation,rc\n",
        "rc('animation',html = 'jshtml')"
      ],
      "execution_count": 0,
      "outputs": []
    },
    {
      "cell_type": "code",
      "metadata": {
        "id": "41xCgQlBIzZe",
        "colab_type": "code",
        "colab": {}
      },
      "source": [
        "a = nn.Parameter(tensor(-1.,1))\n",
        "fig = plt.figure()\n",
        "plt.scatter(x[:,0],y,c='orange')\n",
        "a = a.detach()\n",
        "line, = plt.plot(x[:,0],x@a)\n",
        "plt.close()\n",
        "\n",
        "def animate(i):\n",
        "  update()\n",
        "  line.set_ydata(x@a)\n",
        "  return line,\n",
        "\n",
        "animation.FuncAnimation(fig, animate, np.arange(0, 100), interval=20)"
      ],
      "execution_count": 0,
      "outputs": []
    },
    {
      "cell_type": "code",
      "metadata": {
        "id": "DL5DQs_WJgfM",
        "colab_type": "code",
        "colab": {}
      },
      "source": [
        ""
      ],
      "execution_count": 0,
      "outputs": []
    }
  ]
}